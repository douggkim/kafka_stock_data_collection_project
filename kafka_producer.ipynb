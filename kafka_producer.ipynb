{
 "cells": [
  {
   "cell_type": "code",
   "execution_count": 24,
   "id": "07f2ee20-e6bb-4ea6-a799-9e4e603d067c",
   "metadata": {},
   "outputs": [],
   "source": [
    "import pandas as pd \n",
    "from kafka import KafkaConsumer, KafkaProducer\n",
    "from time import sleep \n",
    "from json import dumps \n",
    "import json\n",
    "import random"
   ]
  },
  {
   "cell_type": "code",
   "execution_count": 25,
   "id": "24533919-eb01-4584-95e5-36d891717499",
   "metadata": {},
   "outputs": [],
   "source": [
    "# Define Producer\n",
    "producer = KafkaProducer(bootstrap_servers=[\"ec2-44-206-255-156.compute-1.amazonaws.com\"],\n",
    "                         value_serializer = lambda x: dumps(x).encode('utf-8'))"
   ]
  },
  {
   "cell_type": "code",
   "execution_count": 26,
   "id": "176afe3a-f014-4f40-a325-7f98e78a98e6",
   "metadata": {},
   "outputs": [],
   "source": [
    "# Read Sample Data to send to Kafka Consumer\n",
    "df = pd.read_csv(\"indexProcessed.csv\")"
   ]
  },
  {
   "cell_type": "code",
   "execution_count": null,
   "id": "4496a1a3-e979-4685-baba-731451ec363c",
   "metadata": {},
   "outputs": [],
   "source": [
    "while True: \n",
    "    # Wait for random time beween 0 ~ 10 seconds\n",
    "    sleep(random.uniform(0,3)) \n",
    "    # Generate random data \n",
    "    generated_data = df.sample(1).to_dict(orient='records')[0]\n",
    "    # Send it to the kafka consumer \n",
    "    producer.send(\"demo_test\", value=generated_data)\n",
    "    "
   ]
  },
  {
   "cell_type": "code",
   "execution_count": null,
   "id": "04b061ec-830a-4cda-8852-08688a32b7ff",
   "metadata": {},
   "outputs": [],
   "source": []
  }
 ],
 "metadata": {
  "kernelspec": {
   "display_name": "Python 3 (ipykernel)",
   "language": "python",
   "name": "python3"
  },
  "language_info": {
   "codemirror_mode": {
    "name": "ipython",
    "version": 3
   },
   "file_extension": ".py",
   "mimetype": "text/x-python",
   "name": "python",
   "nbconvert_exporter": "python",
   "pygments_lexer": "ipython3",
   "version": "3.9.12"
  }
 },
 "nbformat": 4,
 "nbformat_minor": 5
}
